{
 "cells": [
  {
   "cell_type": "code",
   "execution_count": 2,
   "id": "1bf40592",
   "metadata": {},
   "outputs": [],
   "source": [
    "import pandas as pd\n",
    "from sqlalchemy import create_engine"
   ]
  },
  {
   "cell_type": "code",
   "execution_count": 5,
   "id": "8d5bac29",
   "metadata": {},
   "outputs": [
    {
     "data": {
      "text/plain": [
       "Engine(sqlite:///./datasets/Employees.sqlite)"
      ]
     },
     "execution_count": 5,
     "metadata": {},
     "output_type": "execute_result"
    }
   ],
   "source": [
    "engine = create_engine(\"sqlite:///./datasets/Employees.sqlite\")\n",
    "engine"
   ]
  },
  {
   "cell_type": "code",
   "execution_count": 6,
   "id": "dd6eb340",
   "metadata": {},
   "outputs": [
    {
     "name": "stderr",
     "output_type": "stream",
    }
   ],
   "source": [
    "employees = engine.table_names()"
   ]
  },
  {
   "cell_type": "code",
   "execution_count": 7,
   "id": "77b20978",
   "metadata": {},
   "outputs": [
    {
     "data": {
      "text/plain": [
       "1"
      ]
     },
     "execution_count": 7,
     "metadata": {},
     "output_type": "execute_result"
    }
   ],
   "source": [
    "len(employees)"
   ]
  },
  {
   "cell_type": "code",
   "execution_count": 8,
   "id": "10183762",
   "metadata": {},
   "outputs": [
    {
     "data": {
      "text/plain": [
       "['employees']"
      ]
     },
     "execution_count": 8,
     "metadata": {},
     "output_type": "execute_result"
    }
   ],
   "source": [
    "list(employees)"
   ]
  },
  {
   "cell_type": "code",
   "execution_count": 12,
   "id": "e4cbd947",
   "metadata": {},
   "outputs": [
    {
     "data": {
      "text/html": [
       "<div>\n",
       "<style scoped>\n",
       "    .dataframe tbody tr th:only-of-type {\n",
       "        vertical-align: middle;\n",
       "    }\n",
       "\n",
       "    .dataframe tbody tr th {\n",
       "        vertical-align: top;\n",
       "    }\n",
       "\n",
       "    .dataframe thead th {\n",
       "        text-align: right;\n",
       "    }\n",
       "</style>\n",
       "<table border=\"1\" class=\"dataframe\">\n",
       "  <thead>\n",
       "    <tr style=\"text-align: right;\">\n",
       "      <th></th>\n",
       "      <th>id</th>\n",
       "      <th>name</th>\n",
       "      <th>job</th>\n",
       "      <th>mgr</th>\n",
       "      <th>hiredate</th>\n",
       "      <th>sal</th>\n",
       "      <th>comm</th>\n",
       "      <th>dept</th>\n",
       "    </tr>\n",
       "  </thead>\n",
       "  <tbody>\n",
       "    <tr>\n",
       "      <th>0</th>\n",
       "      <td>1</td>\n",
       "      <td>JOHNSON</td>\n",
       "      <td>ADMIN</td>\n",
       "      <td>6.0</td>\n",
       "      <td>12-17-1990</td>\n",
       "      <td>18000</td>\n",
       "      <td>NaN</td>\n",
       "      <td>4</td>\n",
       "    </tr>\n",
       "    <tr>\n",
       "      <th>1</th>\n",
       "      <td>2</td>\n",
       "      <td>HARDING</td>\n",
       "      <td>MANAGER</td>\n",
       "      <td>9.0</td>\n",
       "      <td>02-02-1998</td>\n",
       "      <td>52000</td>\n",
       "      <td>300.0</td>\n",
       "      <td>3</td>\n",
       "    </tr>\n",
       "    <tr>\n",
       "      <th>2</th>\n",
       "      <td>3</td>\n",
       "      <td>TAFT</td>\n",
       "      <td>SALES I</td>\n",
       "      <td>2.0</td>\n",
       "      <td>01-02-1996</td>\n",
       "      <td>25000</td>\n",
       "      <td>500.0</td>\n",
       "      <td>3</td>\n",
       "    </tr>\n",
       "    <tr>\n",
       "      <th>3</th>\n",
       "      <td>4</td>\n",
       "      <td>HOOVER</td>\n",
       "      <td>SALES I</td>\n",
       "      <td>2.0</td>\n",
       "      <td>04-02-1990</td>\n",
       "      <td>27000</td>\n",
       "      <td>NaN</td>\n",
       "      <td>3</td>\n",
       "    </tr>\n",
       "    <tr>\n",
       "      <th>4</th>\n",
       "      <td>5</td>\n",
       "      <td>LINCOLN</td>\n",
       "      <td>TECH</td>\n",
       "      <td>6.0</td>\n",
       "      <td>06-23-1994</td>\n",
       "      <td>22500</td>\n",
       "      <td>1400.0</td>\n",
       "      <td>4</td>\n",
       "    </tr>\n",
       "  </tbody>\n",
       "</table>\n",
       "</div>"
      ],
      "text/plain": [
       "   id     name      job  mgr    hiredate    sal    comm  dept\n",
       "0   1  JOHNSON    ADMIN  6.0  12-17-1990  18000     NaN     4\n",
       "1   2  HARDING  MANAGER  9.0  02-02-1998  52000   300.0     3\n",
       "2   3     TAFT  SALES I  2.0  01-02-1996  25000   500.0     3\n",
       "3   4   HOOVER  SALES I  2.0  04-02-1990  27000     NaN     3\n",
       "4   5  LINCOLN     TECH  6.0  06-23-1994  22500  1400.0     4"
      ]
     },
     "execution_count": 12,
     "metadata": {},
     "output_type": "execute_result"
    }
   ],
   "source": [
    "data = pd.read_sql_query(\"SELECT * FROM employees\" , engine)\n",
    "data.head()"
   ]
  },
  {
   "cell_type": "code",
   "execution_count": 13,
   "id": "5fdeb844",
   "metadata": {},
   "outputs": [
    {
     "data": {
      "text/plain": [
       "id            int64\n",
       "name         object\n",
       "job          object\n",
       "mgr         float64\n",
       "hiredate     object\n",
       "sal           int64\n",
       "comm        float64\n",
       "dept          int64\n",
       "dtype: object"
      ]
     },
     "execution_count": 13,
     "metadata": {},
     "output_type": "execute_result"
    }
   ],
   "source": [
    "data.dtypes"
   ]
  },
  {
   "cell_type": "code",
   "execution_count": 15,
   "id": "ad9acb0d",
   "metadata": {},
   "outputs": [],
   "source": [
    "data['hiredate'] = pd.to_datetime(data['hiredate'] , infer_datetime_format = True)"
   ]
  },
  {
   "cell_type": "code",
   "execution_count": 16,
   "id": "fcd05787",
   "metadata": {},
   "outputs": [
    {
     "data": {
      "text/plain": [
       "id                   int64\n",
       "name                object\n",
       "job                 object\n",
       "mgr                float64\n",
       "hiredate    datetime64[ns]\n",
       "sal                  int64\n",
       "comm               float64\n",
       "dept                 int64\n",
       "dtype: object"
      ]
     },
     "execution_count": 16,
     "metadata": {},
     "output_type": "execute_result"
    }
   ],
   "source": [
    "data.dtypes"
   ]
  },
  {
   "cell_type": "code",
   "execution_count": 17,
   "id": "6b2a296b",
   "metadata": {},
   "outputs": [
    {
     "data": {
      "text/plain": [
       "id                            3\n",
       "name                       TAFT\n",
       "job                     SALES I\n",
       "mgr                         2.0\n",
       "hiredate    1996-01-02 00:00:00\n",
       "sal                       25000\n",
       "comm                      500.0\n",
       "dept                          3\n",
       "Name: 2, dtype: object"
      ]
     },
     "execution_count": 17,
     "metadata": {},
     "output_type": "execute_result"
    }
   ],
   "source": [
    "data.iloc[2]"
   ]
  },
  {
   "cell_type": "code",
   "execution_count": 18,
   "id": "5cf53d6a",
   "metadata": {},
   "outputs": [
    {
     "data": {
      "text/html": [
       "<div>\n",
       "<style scoped>\n",
       "    .dataframe tbody tr th:only-of-type {\n",
       "        vertical-align: middle;\n",
       "    }\n",
       "\n",
       "    .dataframe tbody tr th {\n",
       "        vertical-align: top;\n",
       "    }\n",
       "\n",
       "    .dataframe thead th {\n",
       "        text-align: right;\n",
       "    }\n",
       "</style>\n",
       "<table border=\"1\" class=\"dataframe\">\n",
       "  <thead>\n",
       "    <tr style=\"text-align: right;\">\n",
       "      <th></th>\n",
       "      <th>id</th>\n",
       "      <th>name</th>\n",
       "      <th>job</th>\n",
       "      <th>mgr</th>\n",
       "      <th>hiredate</th>\n",
       "      <th>sal</th>\n",
       "      <th>comm</th>\n",
       "      <th>dept</th>\n",
       "    </tr>\n",
       "  </thead>\n",
       "  <tbody>\n",
       "    <tr>\n",
       "      <th>2</th>\n",
       "      <td>3</td>\n",
       "      <td>TAFT</td>\n",
       "      <td>SALES I</td>\n",
       "      <td>2.0</td>\n",
       "      <td>1996-01-02</td>\n",
       "      <td>25000</td>\n",
       "      <td>500.0</td>\n",
       "      <td>3</td>\n",
       "    </tr>\n",
       "    <tr>\n",
       "      <th>3</th>\n",
       "      <td>4</td>\n",
       "      <td>HOOVER</td>\n",
       "      <td>SALES I</td>\n",
       "      <td>2.0</td>\n",
       "      <td>1990-04-02</td>\n",
       "      <td>27000</td>\n",
       "      <td>NaN</td>\n",
       "      <td>3</td>\n",
       "    </tr>\n",
       "    <tr>\n",
       "      <th>4</th>\n",
       "      <td>5</td>\n",
       "      <td>LINCOLN</td>\n",
       "      <td>TECH</td>\n",
       "      <td>6.0</td>\n",
       "      <td>1994-06-23</td>\n",
       "      <td>22500</td>\n",
       "      <td>1400.0</td>\n",
       "      <td>4</td>\n",
       "    </tr>\n",
       "  </tbody>\n",
       "</table>\n",
       "</div>"
      ],
      "text/plain": [
       "   id     name      job  mgr   hiredate    sal    comm  dept\n",
       "2   3     TAFT  SALES I  2.0 1996-01-02  25000   500.0     3\n",
       "3   4   HOOVER  SALES I  2.0 1990-04-02  27000     NaN     3\n",
       "4   5  LINCOLN     TECH  6.0 1994-06-23  22500  1400.0     4"
      ]
     },
     "execution_count": 18,
     "metadata": {},
     "output_type": "execute_result"
    }
   ],
   "source": [
    "data.iloc[2 : 5]"
   ]
  },
  {
   "cell_type": "code",
   "execution_count": 20,
   "id": "cbdc80b3",
   "metadata": {},
   "outputs": [
    {
     "data": {
      "text/html": [
       "<div>\n",
       "<style scoped>\n",
       "    .dataframe tbody tr th:only-of-type {\n",
       "        vertical-align: middle;\n",
       "    }\n",
       "\n",
       "    .dataframe tbody tr th {\n",
       "        vertical-align: top;\n",
       "    }\n",
       "\n",
       "    .dataframe thead th {\n",
       "        text-align: right;\n",
       "    }\n",
       "</style>\n",
       "<table border=\"1\" class=\"dataframe\">\n",
       "  <thead>\n",
       "    <tr style=\"text-align: right;\">\n",
       "      <th></th>\n",
       "      <th>mgr</th>\n",
       "      <th>hiredate</th>\n",
       "      <th>sal</th>\n",
       "    </tr>\n",
       "  </thead>\n",
       "  <tbody>\n",
       "    <tr>\n",
       "      <th>0</th>\n",
       "      <td>6.0</td>\n",
       "      <td>1990-12-17</td>\n",
       "      <td>18000</td>\n",
       "    </tr>\n",
       "    <tr>\n",
       "      <th>1</th>\n",
       "      <td>9.0</td>\n",
       "      <td>1998-02-02</td>\n",
       "      <td>52000</td>\n",
       "    </tr>\n",
       "    <tr>\n",
       "      <th>2</th>\n",
       "      <td>2.0</td>\n",
       "      <td>1996-01-02</td>\n",
       "      <td>25000</td>\n",
       "    </tr>\n",
       "  </tbody>\n",
       "</table>\n",
       "</div>"
      ],
      "text/plain": [
       "   mgr   hiredate    sal\n",
       "0  6.0 1990-12-17  18000\n",
       "1  9.0 1998-02-02  52000\n",
       "2  2.0 1996-01-02  25000"
      ]
     },
     "execution_count": 20,
     "metadata": {},
     "output_type": "execute_result"
    }
   ],
   "source": [
    "data.iloc[[0,1,2],[3,4,5]]"
   ]
  },
  {
   "cell_type": "code",
   "execution_count": 21,
   "id": "92274e61",
   "metadata": {},
   "outputs": [
    {
     "data": {
      "text/plain": [
       "Timestamp('1994-06-23 00:00:00')"
      ]
     },
     "execution_count": 21,
     "metadata": {},
     "output_type": "execute_result"
    }
   ],
   "source": [
    "data.iloc[4 , 4]"
   ]
  },
  {
   "cell_type": "code",
   "execution_count": 23,
   "id": "2d765fda",
   "metadata": {},
   "outputs": [
    {
     "data": {
      "text/html": [
       "<div>\n",
       "<style scoped>\n",
       "    .dataframe tbody tr th:only-of-type {\n",
       "        vertical-align: middle;\n",
       "    }\n",
       "\n",
       "    .dataframe tbody tr th {\n",
       "        vertical-align: top;\n",
       "    }\n",
       "\n",
       "    .dataframe thead th {\n",
       "        text-align: right;\n",
       "    }\n",
       "</style>\n",
       "<table border=\"1\" class=\"dataframe\">\n",
       "  <thead>\n",
       "    <tr style=\"text-align: right;\">\n",
       "      <th></th>\n",
       "      <th>id</th>\n",
       "      <th>name</th>\n",
       "      <th>job</th>\n",
       "      <th>mgr</th>\n",
       "      <th>hiredate</th>\n",
       "      <th>sal</th>\n",
       "      <th>comm</th>\n",
       "      <th>dept</th>\n",
       "    </tr>\n",
       "  </thead>\n",
       "  <tbody>\n",
       "    <tr>\n",
       "      <th>0</th>\n",
       "      <td>1</td>\n",
       "      <td>JOHNSON</td>\n",
       "      <td>ADMIN</td>\n",
       "      <td>6.0</td>\n",
       "      <td>1990-12-17</td>\n",
       "      <td>18000</td>\n",
       "      <td>NaN</td>\n",
       "      <td>4</td>\n",
       "    </tr>\n",
       "    <tr>\n",
       "      <th>1</th>\n",
       "      <td>2</td>\n",
       "      <td>HARDING</td>\n",
       "      <td>MANAGER</td>\n",
       "      <td>9.0</td>\n",
       "      <td>1998-02-02</td>\n",
       "      <td>52000</td>\n",
       "      <td>300.0</td>\n",
       "      <td>3</td>\n",
       "    </tr>\n",
       "    <tr>\n",
       "      <th>2</th>\n",
       "      <td>3</td>\n",
       "      <td>TAFT</td>\n",
       "      <td>SALES I</td>\n",
       "      <td>2.0</td>\n",
       "      <td>1996-01-02</td>\n",
       "      <td>25000</td>\n",
       "      <td>500.0</td>\n",
       "      <td>3</td>\n",
       "    </tr>\n",
       "    <tr>\n",
       "      <th>3</th>\n",
       "      <td>4</td>\n",
       "      <td>HOOVER</td>\n",
       "      <td>SALES I</td>\n",
       "      <td>2.0</td>\n",
       "      <td>1990-04-02</td>\n",
       "      <td>27000</td>\n",
       "      <td>NaN</td>\n",
       "      <td>3</td>\n",
       "    </tr>\n",
       "    <tr>\n",
       "      <th>4</th>\n",
       "      <td>5</td>\n",
       "      <td>LINCOLN</td>\n",
       "      <td>TECH</td>\n",
       "      <td>6.0</td>\n",
       "      <td>1994-06-23</td>\n",
       "      <td>22500</td>\n",
       "      <td>1400.0</td>\n",
       "      <td>4</td>\n",
       "    </tr>\n",
       "    <tr>\n",
       "      <th>5</th>\n",
       "      <td>6</td>\n",
       "      <td>GARFIELD</td>\n",
       "      <td>MANAGER</td>\n",
       "      <td>9.0</td>\n",
       "      <td>1993-05-01</td>\n",
       "      <td>54000</td>\n",
       "      <td>NaN</td>\n",
       "      <td>4</td>\n",
       "    </tr>\n",
       "  </tbody>\n",
       "</table>\n",
       "</div>"
      ],
      "text/plain": [
       "   id      name      job  mgr   hiredate    sal    comm  dept\n",
       "0   1   JOHNSON    ADMIN  6.0 1990-12-17  18000     NaN     4\n",
       "1   2   HARDING  MANAGER  9.0 1998-02-02  52000   300.0     3\n",
       "2   3      TAFT  SALES I  2.0 1996-01-02  25000   500.0     3\n",
       "3   4    HOOVER  SALES I  2.0 1990-04-02  27000     NaN     3\n",
       "4   5   LINCOLN     TECH  6.0 1994-06-23  22500  1400.0     4\n",
       "5   6  GARFIELD  MANAGER  9.0 1993-05-01  54000     NaN     4"
      ]
     },
     "execution_count": 23,
     "metadata": {},
     "output_type": "execute_result"
    }
   ],
   "source": [
    "data.iloc[ :6 , ]"
   ]
  },
  {
   "cell_type": "code",
   "execution_count": 25,
   "id": "0241fd2f",
   "metadata": {},
   "outputs": [
    {
     "data": {
      "text/html": [
       "<div>\n",
       "<style scoped>\n",
       "    .dataframe tbody tr th:only-of-type {\n",
       "        vertical-align: middle;\n",
       "    }\n",
       "\n",
       "    .dataframe tbody tr th {\n",
       "        vertical-align: top;\n",
       "    }\n",
       "\n",
       "    .dataframe thead th {\n",
       "        text-align: right;\n",
       "    }\n",
       "</style>\n",
       "<table border=\"1\" class=\"dataframe\">\n",
       "  <thead>\n",
       "    <tr style=\"text-align: right;\">\n",
       "      <th></th>\n",
       "      <th>mgr</th>\n",
       "      <th>hiredate</th>\n",
       "      <th>sal</th>\n",
       "    </tr>\n",
       "  </thead>\n",
       "  <tbody>\n",
       "    <tr>\n",
       "      <th>0</th>\n",
       "      <td>6.0</td>\n",
       "      <td>1990-12-17</td>\n",
       "      <td>18000</td>\n",
       "    </tr>\n",
       "    <tr>\n",
       "      <th>1</th>\n",
       "      <td>9.0</td>\n",
       "      <td>1998-02-02</td>\n",
       "      <td>52000</td>\n",
       "    </tr>\n",
       "    <tr>\n",
       "      <th>2</th>\n",
       "      <td>2.0</td>\n",
       "      <td>1996-01-02</td>\n",
       "      <td>25000</td>\n",
       "    </tr>\n",
       "  </tbody>\n",
       "</table>\n",
       "</div>"
      ],
      "text/plain": [
       "   mgr   hiredate    sal\n",
       "0  6.0 1990-12-17  18000\n",
       "1  9.0 1998-02-02  52000\n",
       "2  2.0 1996-01-02  25000"
      ]
     },
     "execution_count": 25,
     "metadata": {},
     "output_type": "execute_result"
    }
   ],
   "source": [
    "data.iloc[ 0:3 , 3:6 ]"
   ]
  },
  {
   "cell_type": "code",
   "execution_count": 27,
   "id": "a9efb959",
   "metadata": {},
   "outputs": [
    {
     "data": {
      "text/plain": [
       "id            2\n",
       "name    HARDING\n",
       "job     MANAGER\n",
       "mgr         9.0\n",
       "Name: 1, dtype: object"
      ]
     },
     "execution_count": 27,
     "metadata": {},
     "output_type": "execute_result"
    }
   ],
   "source": [
    "data.iloc[ 1 ,:4]"
   ]
  },
  {
   "cell_type": "code",
   "execution_count": 35,
   "id": "46594dbf",
   "metadata": {},
   "outputs": [
    {
     "data": {
      "text/html": [
       "<div>\n",
       "<style scoped>\n",
       "    .dataframe tbody tr th:only-of-type {\n",
       "        vertical-align: middle;\n",
       "    }\n",
       "\n",
       "    .dataframe tbody tr th {\n",
       "        vertical-align: top;\n",
       "    }\n",
       "\n",
       "    .dataframe thead th {\n",
       "        text-align: right;\n",
       "    }\n",
       "</style>\n",
       "<table border=\"1\" class=\"dataframe\">\n",
       "  <thead>\n",
       "    <tr style=\"text-align: right;\">\n",
       "      <th></th>\n",
       "      <th>id</th>\n",
       "      <th>name</th>\n",
       "      <th>job</th>\n",
       "      <th>mgr</th>\n",
       "      <th>sal</th>\n",
       "      <th>comm</th>\n",
       "      <th>dept</th>\n",
       "    </tr>\n",
       "    <tr>\n",
       "      <th>hiredate</th>\n",
       "      <th></th>\n",
       "      <th></th>\n",
       "      <th></th>\n",
       "      <th></th>\n",
       "      <th></th>\n",
       "      <th></th>\n",
       "      <th></th>\n",
       "    </tr>\n",
       "  </thead>\n",
       "  <tbody>\n",
       "    <tr>\n",
       "      <th>1990-12-17</th>\n",
       "      <td>1</td>\n",
       "      <td>JOHNSON</td>\n",
       "      <td>ADMIN</td>\n",
       "      <td>6.0</td>\n",
       "      <td>18000</td>\n",
       "      <td>NaN</td>\n",
       "      <td>4</td>\n",
       "    </tr>\n",
       "    <tr>\n",
       "      <th>1998-02-02</th>\n",
       "      <td>2</td>\n",
       "      <td>HARDING</td>\n",
       "      <td>MANAGER</td>\n",
       "      <td>9.0</td>\n",
       "      <td>52000</td>\n",
       "      <td>300.0</td>\n",
       "      <td>3</td>\n",
       "    </tr>\n",
       "    <tr>\n",
       "      <th>1996-01-02</th>\n",
       "      <td>3</td>\n",
       "      <td>TAFT</td>\n",
       "      <td>SALES I</td>\n",
       "      <td>2.0</td>\n",
       "      <td>25000</td>\n",
       "      <td>500.0</td>\n",
       "      <td>3</td>\n",
       "    </tr>\n",
       "    <tr>\n",
       "      <th>1990-04-02</th>\n",
       "      <td>4</td>\n",
       "      <td>HOOVER</td>\n",
       "      <td>SALES I</td>\n",
       "      <td>2.0</td>\n",
       "      <td>27000</td>\n",
       "      <td>NaN</td>\n",
       "      <td>3</td>\n",
       "    </tr>\n",
       "    <tr>\n",
       "      <th>1994-06-23</th>\n",
       "      <td>5</td>\n",
       "      <td>LINCOLN</td>\n",
       "      <td>TECH</td>\n",
       "      <td>6.0</td>\n",
       "      <td>22500</td>\n",
       "      <td>1400.0</td>\n",
       "      <td>4</td>\n",
       "    </tr>\n",
       "    <tr>\n",
       "      <th>1993-05-01</th>\n",
       "      <td>6</td>\n",
       "      <td>GARFIELD</td>\n",
       "      <td>MANAGER</td>\n",
       "      <td>9.0</td>\n",
       "      <td>54000</td>\n",
       "      <td>NaN</td>\n",
       "      <td>4</td>\n",
       "    </tr>\n",
       "    <tr>\n",
       "      <th>1997-09-22</th>\n",
       "      <td>7</td>\n",
       "      <td>POLK</td>\n",
       "      <td>TECH</td>\n",
       "      <td>6.0</td>\n",
       "      <td>25000</td>\n",
       "      <td>NaN</td>\n",
       "      <td>4</td>\n",
       "    </tr>\n",
       "    <tr>\n",
       "      <th>1997-03-30</th>\n",
       "      <td>8</td>\n",
       "      <td>GRANT</td>\n",
       "      <td>ENGINEER</td>\n",
       "      <td>10.0</td>\n",
       "      <td>32000</td>\n",
       "      <td>NaN</td>\n",
       "      <td>2</td>\n",
       "    </tr>\n",
       "    <tr>\n",
       "      <th>1990-01-01</th>\n",
       "      <td>9</td>\n",
       "      <td>JACKSON</td>\n",
       "      <td>CEO</td>\n",
       "      <td>NaN</td>\n",
       "      <td>75000</td>\n",
       "      <td>NaN</td>\n",
       "      <td>4</td>\n",
       "    </tr>\n",
       "    <tr>\n",
       "      <th>1994-08-09</th>\n",
       "      <td>10</td>\n",
       "      <td>FILLMORE</td>\n",
       "      <td>MANAGER</td>\n",
       "      <td>9.0</td>\n",
       "      <td>56000</td>\n",
       "      <td>NaN</td>\n",
       "      <td>2</td>\n",
       "    </tr>\n",
       "    <tr>\n",
       "      <th>1996-03-15</th>\n",
       "      <td>11</td>\n",
       "      <td>ADAMS</td>\n",
       "      <td>ENGINEER</td>\n",
       "      <td>10.0</td>\n",
       "      <td>34000</td>\n",
       "      <td>NaN</td>\n",
       "      <td>2</td>\n",
       "    </tr>\n",
       "    <tr>\n",
       "      <th>1998-04-16</th>\n",
       "      <td>12</td>\n",
       "      <td>WASHINGTON</td>\n",
       "      <td>ADMIN</td>\n",
       "      <td>6.0</td>\n",
       "      <td>18000</td>\n",
       "      <td>NaN</td>\n",
       "      <td>4</td>\n",
       "    </tr>\n",
       "    <tr>\n",
       "      <th>2000-12-03</th>\n",
       "      <td>13</td>\n",
       "      <td>MONROE</td>\n",
       "      <td>ENGINEER</td>\n",
       "      <td>10.0</td>\n",
       "      <td>30000</td>\n",
       "      <td>NaN</td>\n",
       "      <td>2</td>\n",
       "    </tr>\n",
       "    <tr>\n",
       "      <th>1995-10-12</th>\n",
       "      <td>14</td>\n",
       "      <td>ROOSEVELT</td>\n",
       "      <td>CPA</td>\n",
       "      <td>9.0</td>\n",
       "      <td>35000</td>\n",
       "      <td>NaN</td>\n",
       "      <td>1</td>\n",
       "    </tr>\n",
       "  </tbody>\n",
       "</table>\n",
       "</div>"
      ],
      "text/plain": [
       "            id        name       job   mgr    sal    comm  dept\n",
       "hiredate                                                       \n",
       "1990-12-17   1     JOHNSON     ADMIN   6.0  18000     NaN     4\n",
       "1998-02-02   2     HARDING   MANAGER   9.0  52000   300.0     3\n",
       "1996-01-02   3        TAFT   SALES I   2.0  25000   500.0     3\n",
       "1990-04-02   4      HOOVER   SALES I   2.0  27000     NaN     3\n",
       "1994-06-23   5     LINCOLN      TECH   6.0  22500  1400.0     4\n",
       "1993-05-01   6    GARFIELD   MANAGER   9.0  54000     NaN     4\n",
       "1997-09-22   7        POLK      TECH   6.0  25000     NaN     4\n",
       "1997-03-30   8       GRANT  ENGINEER  10.0  32000     NaN     2\n",
       "1990-01-01   9     JACKSON       CEO   NaN  75000     NaN     4\n",
       "1994-08-09  10    FILLMORE   MANAGER   9.0  56000     NaN     2\n",
       "1996-03-15  11       ADAMS  ENGINEER  10.0  34000     NaN     2\n",
       "1998-04-16  12  WASHINGTON     ADMIN   6.0  18000     NaN     4\n",
       "2000-12-03  13      MONROE  ENGINEER  10.0  30000     NaN     2\n",
       "1995-10-12  14   ROOSEVELT       CPA   9.0  35000     NaN     1"
      ]
     },
     "execution_count": 35,
     "metadata": {},
     "output_type": "execute_result"
    }
   ],
   "source": [
    "Time_series = data.set_index('hiredate')\n",
    "Time_series"
   ]
  },
  {
   "cell_type": "code",
   "execution_count": 36,
   "id": "10264e30",
   "metadata": {},
   "outputs": [
    {
     "data": {
      "text/html": [
       "<div>\n",
       "<style scoped>\n",
       "    .dataframe tbody tr th:only-of-type {\n",
       "        vertical-align: middle;\n",
       "    }\n",
       "\n",
       "    .dataframe tbody tr th {\n",
       "        vertical-align: top;\n",
       "    }\n",
       "\n",
       "    .dataframe thead th {\n",
       "        text-align: right;\n",
       "    }\n",
       "</style>\n",
       "<table border=\"1\" class=\"dataframe\">\n",
       "  <thead>\n",
       "    <tr style=\"text-align: right;\">\n",
       "      <th></th>\n",
       "      <th>id</th>\n",
       "      <th>name</th>\n",
       "      <th>job</th>\n",
       "      <th>mgr</th>\n",
       "      <th>sal</th>\n",
       "      <th>comm</th>\n",
       "      <th>dept</th>\n",
       "    </tr>\n",
       "    <tr>\n",
       "      <th>hiredate</th>\n",
       "      <th></th>\n",
       "      <th></th>\n",
       "      <th></th>\n",
       "      <th></th>\n",
       "      <th></th>\n",
       "      <th></th>\n",
       "      <th></th>\n",
       "    </tr>\n",
       "  </thead>\n",
       "  <tbody>\n",
       "    <tr>\n",
       "      <th>1990-01-01</th>\n",
       "      <td>9</td>\n",
       "      <td>JACKSON</td>\n",
       "      <td>CEO</td>\n",
       "      <td>NaN</td>\n",
       "      <td>75000</td>\n",
       "      <td>NaN</td>\n",
       "      <td>4</td>\n",
       "    </tr>\n",
       "    <tr>\n",
       "      <th>1990-04-02</th>\n",
       "      <td>4</td>\n",
       "      <td>HOOVER</td>\n",
       "      <td>SALES I</td>\n",
       "      <td>2.0</td>\n",
       "      <td>27000</td>\n",
       "      <td>NaN</td>\n",
       "      <td>3</td>\n",
       "    </tr>\n",
       "    <tr>\n",
       "      <th>1990-12-17</th>\n",
       "      <td>1</td>\n",
       "      <td>JOHNSON</td>\n",
       "      <td>ADMIN</td>\n",
       "      <td>6.0</td>\n",
       "      <td>18000</td>\n",
       "      <td>NaN</td>\n",
       "      <td>4</td>\n",
       "    </tr>\n",
       "    <tr>\n",
       "      <th>1993-05-01</th>\n",
       "      <td>6</td>\n",
       "      <td>GARFIELD</td>\n",
       "      <td>MANAGER</td>\n",
       "      <td>9.0</td>\n",
       "      <td>54000</td>\n",
       "      <td>NaN</td>\n",
       "      <td>4</td>\n",
       "    </tr>\n",
       "    <tr>\n",
       "      <th>1994-06-23</th>\n",
       "      <td>5</td>\n",
       "      <td>LINCOLN</td>\n",
       "      <td>TECH</td>\n",
       "      <td>6.0</td>\n",
       "      <td>22500</td>\n",
       "      <td>1400.0</td>\n",
       "      <td>4</td>\n",
       "    </tr>\n",
       "    <tr>\n",
       "      <th>1994-08-09</th>\n",
       "      <td>10</td>\n",
       "      <td>FILLMORE</td>\n",
       "      <td>MANAGER</td>\n",
       "      <td>9.0</td>\n",
       "      <td>56000</td>\n",
       "      <td>NaN</td>\n",
       "      <td>2</td>\n",
       "    </tr>\n",
       "    <tr>\n",
       "      <th>1995-10-12</th>\n",
       "      <td>14</td>\n",
       "      <td>ROOSEVELT</td>\n",
       "      <td>CPA</td>\n",
       "      <td>9.0</td>\n",
       "      <td>35000</td>\n",
       "      <td>NaN</td>\n",
       "      <td>1</td>\n",
       "    </tr>\n",
       "    <tr>\n",
       "      <th>1996-01-02</th>\n",
       "      <td>3</td>\n",
       "      <td>TAFT</td>\n",
       "      <td>SALES I</td>\n",
       "      <td>2.0</td>\n",
       "      <td>25000</td>\n",
       "      <td>500.0</td>\n",
       "      <td>3</td>\n",
       "    </tr>\n",
       "    <tr>\n",
       "      <th>1996-03-15</th>\n",
       "      <td>11</td>\n",
       "      <td>ADAMS</td>\n",
       "      <td>ENGINEER</td>\n",
       "      <td>10.0</td>\n",
       "      <td>34000</td>\n",
       "      <td>NaN</td>\n",
       "      <td>2</td>\n",
       "    </tr>\n",
       "    <tr>\n",
       "      <th>1997-03-30</th>\n",
       "      <td>8</td>\n",
       "      <td>GRANT</td>\n",
       "      <td>ENGINEER</td>\n",
       "      <td>10.0</td>\n",
       "      <td>32000</td>\n",
       "      <td>NaN</td>\n",
       "      <td>2</td>\n",
       "    </tr>\n",
       "    <tr>\n",
       "      <th>1997-09-22</th>\n",
       "      <td>7</td>\n",
       "      <td>POLK</td>\n",
       "      <td>TECH</td>\n",
       "      <td>6.0</td>\n",
       "      <td>25000</td>\n",
       "      <td>NaN</td>\n",
       "      <td>4</td>\n",
       "    </tr>\n",
       "    <tr>\n",
       "      <th>1998-02-02</th>\n",
       "      <td>2</td>\n",
       "      <td>HARDING</td>\n",
       "      <td>MANAGER</td>\n",
       "      <td>9.0</td>\n",
       "      <td>52000</td>\n",
       "      <td>300.0</td>\n",
       "      <td>3</td>\n",
       "    </tr>\n",
       "    <tr>\n",
       "      <th>1998-04-16</th>\n",
       "      <td>12</td>\n",
       "      <td>WASHINGTON</td>\n",
       "      <td>ADMIN</td>\n",
       "      <td>6.0</td>\n",
       "      <td>18000</td>\n",
       "      <td>NaN</td>\n",
       "      <td>4</td>\n",
       "    </tr>\n",
       "    <tr>\n",
       "      <th>2000-12-03</th>\n",
       "      <td>13</td>\n",
       "      <td>MONROE</td>\n",
       "      <td>ENGINEER</td>\n",
       "      <td>10.0</td>\n",
       "      <td>30000</td>\n",
       "      <td>NaN</td>\n",
       "      <td>2</td>\n",
       "    </tr>\n",
       "  </tbody>\n",
       "</table>\n",
       "</div>"
      ],
      "text/plain": [
       "            id        name       job   mgr    sal    comm  dept\n",
       "hiredate                                                       \n",
       "1990-01-01   9     JACKSON       CEO   NaN  75000     NaN     4\n",
       "1990-04-02   4      HOOVER   SALES I   2.0  27000     NaN     3\n",
       "1990-12-17   1     JOHNSON     ADMIN   6.0  18000     NaN     4\n",
       "1993-05-01   6    GARFIELD   MANAGER   9.0  54000     NaN     4\n",
       "1994-06-23   5     LINCOLN      TECH   6.0  22500  1400.0     4\n",
       "1994-08-09  10    FILLMORE   MANAGER   9.0  56000     NaN     2\n",
       "1995-10-12  14   ROOSEVELT       CPA   9.0  35000     NaN     1\n",
       "1996-01-02   3        TAFT   SALES I   2.0  25000   500.0     3\n",
       "1996-03-15  11       ADAMS  ENGINEER  10.0  34000     NaN     2\n",
       "1997-03-30   8       GRANT  ENGINEER  10.0  32000     NaN     2\n",
       "1997-09-22   7        POLK      TECH   6.0  25000     NaN     4\n",
       "1998-02-02   2     HARDING   MANAGER   9.0  52000   300.0     3\n",
       "1998-04-16  12  WASHINGTON     ADMIN   6.0  18000     NaN     4\n",
       "2000-12-03  13      MONROE  ENGINEER  10.0  30000     NaN     2"
      ]
     },
     "execution_count": 36,
     "metadata": {},
     "output_type": "execute_result"
    }
   ],
   "source": [
    "Time_series.sort_index()"
   ]
  },
  {
   "cell_type": "code",
   "execution_count": 37,
   "id": "4065837d",
   "metadata": {},
   "outputs": [
    {
     "data": {
      "text/html": [
       "<div>\n",
       "<style scoped>\n",
       "    .dataframe tbody tr th:only-of-type {\n",
       "        vertical-align: middle;\n",
       "    }\n",
       "\n",
       "    .dataframe tbody tr th {\n",
       "        vertical-align: top;\n",
       "    }\n",
       "\n",
       "    .dataframe thead th {\n",
       "        text-align: right;\n",
       "    }\n",
       "</style>\n",
       "<table border=\"1\" class=\"dataframe\">\n",
       "  <thead>\n",
       "    <tr style=\"text-align: right;\">\n",
       "      <th></th>\n",
       "      <th>id</th>\n",
       "      <th>name</th>\n",
       "      <th>job</th>\n",
       "      <th>mgr</th>\n",
       "      <th>sal</th>\n",
       "      <th>comm</th>\n",
       "      <th>dept</th>\n",
       "    </tr>\n",
       "    <tr>\n",
       "      <th>hiredate</th>\n",
       "      <th></th>\n",
       "      <th></th>\n",
       "      <th></th>\n",
       "      <th></th>\n",
       "      <th></th>\n",
       "      <th></th>\n",
       "      <th></th>\n",
       "    </tr>\n",
       "  </thead>\n",
       "  <tbody>\n",
       "    <tr>\n",
       "      <th>1990-12-17</th>\n",
       "      <td>1</td>\n",
       "      <td>JOHNSON</td>\n",
       "      <td>ADMIN</td>\n",
       "      <td>6.0</td>\n",
       "      <td>18000</td>\n",
       "      <td>NaN</td>\n",
       "      <td>4</td>\n",
       "    </tr>\n",
       "    <tr>\n",
       "      <th>1990-04-02</th>\n",
       "      <td>4</td>\n",
       "      <td>HOOVER</td>\n",
       "      <td>SALES I</td>\n",
       "      <td>2.0</td>\n",
       "      <td>27000</td>\n",
       "      <td>NaN</td>\n",
       "      <td>3</td>\n",
       "    </tr>\n",
       "    <tr>\n",
       "      <th>1994-06-23</th>\n",
       "      <td>5</td>\n",
       "      <td>LINCOLN</td>\n",
       "      <td>TECH</td>\n",
       "      <td>6.0</td>\n",
       "      <td>22500</td>\n",
       "      <td>1400.0</td>\n",
       "      <td>4</td>\n",
       "    </tr>\n",
       "    <tr>\n",
       "      <th>1993-05-01</th>\n",
       "      <td>6</td>\n",
       "      <td>GARFIELD</td>\n",
       "      <td>MANAGER</td>\n",
       "      <td>9.0</td>\n",
       "      <td>54000</td>\n",
       "      <td>NaN</td>\n",
       "      <td>4</td>\n",
       "    </tr>\n",
       "    <tr>\n",
       "      <th>1990-01-01</th>\n",
       "      <td>9</td>\n",
       "      <td>JACKSON</td>\n",
       "      <td>CEO</td>\n",
       "      <td>NaN</td>\n",
       "      <td>75000</td>\n",
       "      <td>NaN</td>\n",
       "      <td>4</td>\n",
       "    </tr>\n",
       "    <tr>\n",
       "      <th>1994-08-09</th>\n",
       "      <td>10</td>\n",
       "      <td>FILLMORE</td>\n",
       "      <td>MANAGER</td>\n",
       "      <td>9.0</td>\n",
       "      <td>56000</td>\n",
       "      <td>NaN</td>\n",
       "      <td>2</td>\n",
       "    </tr>\n",
       "    <tr>\n",
       "      <th>1995-10-12</th>\n",
       "      <td>14</td>\n",
       "      <td>ROOSEVELT</td>\n",
       "      <td>CPA</td>\n",
       "      <td>9.0</td>\n",
       "      <td>35000</td>\n",
       "      <td>NaN</td>\n",
       "      <td>1</td>\n",
       "    </tr>\n",
       "  </tbody>\n",
       "</table>\n",
       "</div>"
      ],
      "text/plain": [
       "            id       name      job  mgr    sal    comm  dept\n",
       "hiredate                                                    \n",
       "1990-12-17   1    JOHNSON    ADMIN  6.0  18000     NaN     4\n",
       "1990-04-02   4     HOOVER  SALES I  2.0  27000     NaN     3\n",
       "1994-06-23   5    LINCOLN     TECH  6.0  22500  1400.0     4\n",
       "1993-05-01   6   GARFIELD  MANAGER  9.0  54000     NaN     4\n",
       "1990-01-01   9    JACKSON      CEO  NaN  75000     NaN     4\n",
       "1994-08-09  10   FILLMORE  MANAGER  9.0  56000     NaN     2\n",
       "1995-10-12  14  ROOSEVELT      CPA  9.0  35000     NaN     1"
      ]
     },
     "execution_count": 37,
     "metadata": {},
     "output_type": "execute_result"
    }
   ],
   "source": [
    "Time_series.loc['1990-01-01' : '1995-12-31']"
   ]
  },
  {
   "cell_type": "code",
   "execution_count": 80,
   "id": "c8ca350c",
   "metadata": {},
   "outputs": [],
   "source": [
    "data['job'] = data['job'].str.replace('SALES I' , 'SALES' )"
   ]
  },
  {
   "cell_type": "code",
   "execution_count": 81,
   "id": "2a36cbf5",
   "metadata": {},
   "outputs": [
    {
     "data": {
      "text/html": [
       "<div>\n",
       "<style scoped>\n",
       "    .dataframe tbody tr th:only-of-type {\n",
       "        vertical-align: middle;\n",
       "    }\n",
       "\n",
       "    .dataframe tbody tr th {\n",
       "        vertical-align: top;\n",
       "    }\n",
       "\n",
       "    .dataframe thead th {\n",
       "        text-align: right;\n",
       "    }\n",
       "</style>\n",
       "<table border=\"1\" class=\"dataframe\">\n",
       "  <thead>\n",
       "    <tr style=\"text-align: right;\">\n",
       "      <th></th>\n",
       "      <th>id</th>\n",
       "      <th>name</th>\n",
       "      <th>job</th>\n",
       "      <th>mgr</th>\n",
       "      <th>hiredate</th>\n",
       "      <th>sal</th>\n",
       "      <th>comm</th>\n",
       "      <th>dept</th>\n",
       "    </tr>\n",
       "  </thead>\n",
       "  <tbody>\n",
       "    <tr>\n",
       "      <th>0</th>\n",
       "      <td>1</td>\n",
       "      <td>JOHNSON</td>\n",
       "      <td>ADMIN</td>\n",
       "      <td>6.0</td>\n",
       "      <td>1990-12-17</td>\n",
       "      <td>18000</td>\n",
       "      <td>NaN</td>\n",
       "      <td>4</td>\n",
       "    </tr>\n",
       "    <tr>\n",
       "      <th>11</th>\n",
       "      <td>12</td>\n",
       "      <td>WASHINGTON</td>\n",
       "      <td>ADMIN</td>\n",
       "      <td>6.0</td>\n",
       "      <td>1998-04-16</td>\n",
       "      <td>18000</td>\n",
       "      <td>NaN</td>\n",
       "      <td>4</td>\n",
       "    </tr>\n",
       "  </tbody>\n",
       "</table>\n",
       "</div>"
      ],
      "text/plain": [
       "    id        name    job  mgr   hiredate    sal  comm  dept\n",
       "0    1     JOHNSON  ADMIN  6.0 1990-12-17  18000   NaN     4\n",
       "11  12  WASHINGTON  ADMIN  6.0 1998-04-16  18000   NaN     4"
      ]
     },
     "execution_count": 81,
     "metadata": {},
     "output_type": "execute_result"
    }
   ],
   "source": [
    "data[data['job'] == 'ADMIN']"
   ]
  },
  {
   "cell_type": "code",
   "execution_count": 82,
   "id": "485c09dc",
   "metadata": {},
   "outputs": [
    {
     "data": {
      "text/html": [
       "<div>\n",
       "<style scoped>\n",
       "    .dataframe tbody tr th:only-of-type {\n",
       "        vertical-align: middle;\n",
       "    }\n",
       "\n",
       "    .dataframe tbody tr th {\n",
       "        vertical-align: top;\n",
       "    }\n",
       "\n",
       "    .dataframe thead th {\n",
       "        text-align: right;\n",
       "    }\n",
       "</style>\n",
       "<table border=\"1\" class=\"dataframe\">\n",
       "  <thead>\n",
       "    <tr style=\"text-align: right;\">\n",
       "      <th></th>\n",
       "      <th>id</th>\n",
       "      <th>name</th>\n",
       "      <th>job</th>\n",
       "      <th>mgr</th>\n",
       "      <th>hiredate</th>\n",
       "      <th>sal</th>\n",
       "      <th>comm</th>\n",
       "      <th>dept</th>\n",
       "    </tr>\n",
       "  </thead>\n",
       "  <tbody>\n",
       "    <tr>\n",
       "      <th>1</th>\n",
       "      <td>2</td>\n",
       "      <td>HARDING</td>\n",
       "      <td>MANAGER</td>\n",
       "      <td>9.0</td>\n",
       "      <td>1998-02-02</td>\n",
       "      <td>52000</td>\n",
       "      <td>300.0</td>\n",
       "      <td>3</td>\n",
       "    </tr>\n",
       "    <tr>\n",
       "      <th>2</th>\n",
       "      <td>3</td>\n",
       "      <td>TAFT</td>\n",
       "      <td>SALES</td>\n",
       "      <td>2.0</td>\n",
       "      <td>1996-01-02</td>\n",
       "      <td>25000</td>\n",
       "      <td>500.0</td>\n",
       "      <td>3</td>\n",
       "    </tr>\n",
       "    <tr>\n",
       "      <th>3</th>\n",
       "      <td>4</td>\n",
       "      <td>HOOVER</td>\n",
       "      <td>SALES</td>\n",
       "      <td>2.0</td>\n",
       "      <td>1990-04-02</td>\n",
       "      <td>27000</td>\n",
       "      <td>NaN</td>\n",
       "      <td>3</td>\n",
       "    </tr>\n",
       "  </tbody>\n",
       "</table>\n",
       "</div>"
      ],
      "text/plain": [
       "   id     name      job  mgr   hiredate    sal   comm  dept\n",
       "1   2  HARDING  MANAGER  9.0 1998-02-02  52000  300.0     3\n",
       "2   3     TAFT    SALES  2.0 1996-01-02  25000  500.0     3\n",
       "3   4   HOOVER    SALES  2.0 1990-04-02  27000    NaN     3"
      ]
     },
     "execution_count": 82,
     "metadata": {},
     "output_type": "execute_result"
    }
   ],
   "source": [
    "data[(data['name'] == 'HOOVER') | (data['dept'] == 3)] #logical operators(or)"
   ]
  },
  {
   "cell_type": "code",
   "execution_count": 83,
   "id": "34f8b866",
   "metadata": {},
   "outputs": [
    {
     "data": {
      "text/html": [
       "<div>\n",
       "<style scoped>\n",
       "    .dataframe tbody tr th:only-of-type {\n",
       "        vertical-align: middle;\n",
       "    }\n",
       "\n",
       "    .dataframe tbody tr th {\n",
       "        vertical-align: top;\n",
       "    }\n",
       "\n",
       "    .dataframe thead th {\n",
       "        text-align: right;\n",
       "    }\n",
       "</style>\n",
       "<table border=\"1\" class=\"dataframe\">\n",
       "  <thead>\n",
       "    <tr style=\"text-align: right;\">\n",
       "      <th></th>\n",
       "      <th>id</th>\n",
       "      <th>name</th>\n",
       "      <th>job</th>\n",
       "      <th>mgr</th>\n",
       "      <th>hiredate</th>\n",
       "      <th>sal</th>\n",
       "      <th>comm</th>\n",
       "      <th>dept</th>\n",
       "    </tr>\n",
       "  </thead>\n",
       "  <tbody>\n",
       "    <tr>\n",
       "      <th>3</th>\n",
       "      <td>4</td>\n",
       "      <td>HOOVER</td>\n",
       "      <td>SALES</td>\n",
       "      <td>2.0</td>\n",
       "      <td>1990-04-02</td>\n",
       "      <td>27000</td>\n",
       "      <td>NaN</td>\n",
       "      <td>3</td>\n",
       "    </tr>\n",
       "  </tbody>\n",
       "</table>\n",
       "</div>"
      ],
      "text/plain": [
       "   id    name    job  mgr   hiredate    sal  comm  dept\n",
       "3   4  HOOVER  SALES  2.0 1990-04-02  27000   NaN     3"
      ]
     },
     "execution_count": 83,
     "metadata": {},
     "output_type": "execute_result"
    }
   ],
   "source": [
    "data[(data['name'] == 'HOOVER') & (data['dept'] == 3)]  #logical operators(and)"
   ]
  },
  {
   "cell_type": "code",
   "execution_count": 84,
   "id": "0d741879",
   "metadata": {},
   "outputs": [
    {
     "data": {
      "text/plain": [
       "array(['ADMIN', 'MANAGER', 'SALES', 'TECH', 'ENGINEER', 'CEO', 'CPA'],\n",
       "      dtype=object)"
      ]
     },
     "execution_count": 84,
     "metadata": {},
     "output_type": "execute_result"
    }
   ],
   "source": [
    "data['job'].unique()"
   ]
  },
  {
   "cell_type": "code",
   "execution_count": 97,
   "id": "879c97cc",
   "metadata": {},
   "outputs": [
    {
     "data": {
      "image/png": "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\n",
      "text/plain": [
       "<Figure size 720x360 with 1 Axes>"
      ]
     },
     "metadata": {},
     "output_type": "display_data"
    }
   ],
   "source": [
    "import matplotlib.pyplot as plt\n",
    "plt.figure(figsize=(10 , 5))\n",
    "plt.barh(data['name'] , data['dept'])\n",
    "plt.xlabel('Number of department')\n",
    "plt.ylabel('Employess')\n",
    "plt.show()"
   ]
  },
  {
   "cell_type": "code",
   "execution_count": 86,
   "id": "441993ac",
   "metadata": {},
   "outputs": [
    {
     "data": {
      "image/png": "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\n",
      "text/plain": [
       "<Figure size 1440x360 with 1 Axes>"
      ]
     },
     "metadata": {},
     "output_type": "display_data"
    }
   ],
   "source": [
    "plt.figure(figsize=(20 , 5))\n",
    "plt.style.use('bmh')\n",
    "plt.plot(data['name'] , data['sal'] , marker = 'o')\n",
    "plt.title(\"A Higher Salary in company\")\n",
    "plt.show()"
   ]
  },
  {
   "cell_type": "code",
   "execution_count": 87,
   "id": "72b354bf",
   "metadata": {},
   "outputs": [
    {
     "data": {
      "text/html": [
       "<div>\n",
       "<style scoped>\n",
       "    .dataframe tbody tr th:only-of-type {\n",
       "        vertical-align: middle;\n",
       "    }\n",
       "\n",
       "    .dataframe tbody tr th {\n",
       "        vertical-align: top;\n",
       "    }\n",
       "\n",
       "    .dataframe thead th {\n",
       "        text-align: right;\n",
       "    }\n",
       "</style>\n",
       "<table border=\"1\" class=\"dataframe\">\n",
       "  <thead>\n",
       "    <tr style=\"text-align: right;\">\n",
       "      <th></th>\n",
       "      <th>job</th>\n",
       "      <th>sal</th>\n",
       "      <th>hiredate</th>\n",
       "    </tr>\n",
       "  </thead>\n",
       "  <tbody>\n",
       "    <tr>\n",
       "      <th>8</th>\n",
       "      <td>CEO</td>\n",
       "      <td>75000</td>\n",
       "      <td>1990-01-01</td>\n",
       "    </tr>\n",
       "  </tbody>\n",
       "</table>\n",
       "</div>"
      ],
      "text/plain": [
       "   job    sal   hiredate\n",
       "8  CEO  75000 1990-01-01"
      ]
     },
     "execution_count": 87,
     "metadata": {},
     "output_type": "execute_result"
    }
   ],
   "source": [
    "data[data['name'] == 'JACKSON'][['job' , 'sal' , 'hiredate']]"
   ]
  },
  {
   "cell_type": "code",
   "execution_count": 93,
   "id": "d4128a5e",
   "metadata": {},
   "outputs": [
    {
     "data": {
      "image/png": "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\n",
      "text/plain": [
       "<Figure size 864x288 with 1 Axes>"
      ]
     },
     "metadata": {},
     "output_type": "display_data"
    }
   ],
   "source": [
    "import seaborn as sns\n",
    "plt.figure(figsize = (12 , 4))\n",
    "sns.set_style('darkgrid')\n",
    "sns.countplot(x = data['job'] , data = data)\n",
    "plt.title(\"Number of Employess In each Job Title\")\n",
    "plt.show()"
   ]
  }
 ],
 "metadata": {
  "kernelspec": {
   "display_name": "Python 3 (ipykernel)",
   "language": "python",
   "name": "python3"
  },
  "language_info": {
   "codemirror_mode": {
    "name": "ipython",
    "version": 3
   },
   "file_extension": ".py",
   "mimetype": "text/x-python",
   "name": "python",
   "nbconvert_exporter": "python",
   "pygments_lexer": "ipython3",
   "version": "3.10.5"
  }
 },
 "nbformat": 4,
 "nbformat_minor": 5
}
