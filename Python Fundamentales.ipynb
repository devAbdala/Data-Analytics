{
 "cells": [
  {
   "cell_type": "code",
   "execution_count": 3,
   "id": "cbc1047e",
   "metadata": {},
   "outputs": [
    {
     "data": {
      "text/plain": [
       "str"
      ]
     },
     "execution_count": 3,
     "metadata": {},
     "output_type": "execute_result"
    }
   ],
   "source": [
    "name = 'Abdallah ahmed mohamed hassan'\n",
    "type(name)"
   ]
  },
  {
   "cell_type": "code",
   "execution_count": 42,
   "id": "4276ff89",
   "metadata": {},
   "outputs": [
    {
     "data": {
      "text/plain": [
       "29"
      ]
     },
     "execution_count": 42,
     "metadata": {},
     "output_type": "execute_result"
    }
   ],
   "source": [
    "len(name)"
   ]
  },
  {
   "cell_type": "code",
   "execution_count": 15,
   "id": "74e48509",
   "metadata": {},
   "outputs": [
    {
     "name": "stdout",
     "output_type": "stream",
     "text": [
      "MY NAME IS ABDALLAH AHMED MOHAMED HASSAN AND MY AGE IS 28\n"
     ]
    }
   ],
   "source": [
    "age = 28\n",
    "print(\"MY NAME IS {} AND MY AGE IS {}\".format(name.upper() , age) )"
   ]
  },
  {
   "cell_type": "code",
   "execution_count": 16,
   "id": "f1e3f17b",
   "metadata": {},
   "outputs": [
    {
     "data": {
      "text/plain": [
       "int"
      ]
     },
     "execution_count": 16,
     "metadata": {},
     "output_type": "execute_result"
    }
   ],
   "source": [
    "type(age)"
   ]
  },
  {
   "cell_type": "code",
   "execution_count": 18,
   "id": "b6e924f6",
   "metadata": {},
   "outputs": [
    {
     "name": "stdout",
     "output_type": "stream",
     "text": [
      "Abdallah ahmed mohamed hassan -- 28\n"
     ]
    }
   ],
   "source": [
    "print(name + \" -- \" + str(age))"
   ]
  },
  {
   "cell_type": "code",
   "execution_count": 4,
   "id": "83d56603",
   "metadata": {},
   "outputs": [
    {
     "data": {
      "text/plain": [
       "'ABDALLAH AHMED MOHAMED HASSAN'"
      ]
     },
     "execution_count": 4,
     "metadata": {},
     "output_type": "execute_result"
    }
   ],
   "source": [
    "name.upper()"
   ]
  },
  {
   "cell_type": "code",
   "execution_count": 5,
   "id": "555f22a0",
   "metadata": {},
   "outputs": [
    {
     "data": {
      "text/plain": [
       "'abdallah ahmed mohamed hassan'"
      ]
     },
     "execution_count": 5,
     "metadata": {},
     "output_type": "execute_result"
    }
   ],
   "source": [
    "name.lower()"
   ]
  },
  {
   "cell_type": "code",
   "execution_count": 6,
   "id": "8e67439f",
   "metadata": {},
   "outputs": [
    {
     "data": {
      "text/plain": [
       "4"
      ]
     },
     "execution_count": 6,
     "metadata": {},
     "output_type": "execute_result"
    }
   ],
   "source": [
    "name.index('l')"
   ]
  },
  {
   "cell_type": "code",
   "execution_count": 7,
   "id": "193ee367",
   "metadata": {},
   "outputs": [
    {
     "data": {
      "text/plain": [
       "6"
      ]
     },
     "execution_count": 7,
     "metadata": {},
     "output_type": "execute_result"
    }
   ],
   "source": [
    "name.count('a')"
   ]
  },
  {
   "cell_type": "code",
   "execution_count": 9,
   "id": "ab482249",
   "metadata": {},
   "outputs": [
    {
     "data": {
      "text/plain": [
       "'Abdallah ahmed mohamed hassan !!!! '"
      ]
     },
     "execution_count": 9,
     "metadata": {},
     "output_type": "execute_result"
    }
   ],
   "source": [
    "name + ' !!!! '"
   ]
  },
  {
   "cell_type": "code",
   "execution_count": 13,
   "id": "7a148c4e",
   "metadata": {},
   "outputs": [
    {
     "data": {
      "text/plain": [
       "'MY NAME IS ABDALLAH AHMED MOHAMED HASSAN '"
      ]
     },
     "execution_count": 13,
     "metadata": {},
     "output_type": "execute_result"
    }
   ],
   "source": [
    "\"MY NAME IS {} \".format(name.upper())"
   ]
  },
  {
   "cell_type": "code",
   "execution_count": 14,
   "id": "593dca78",
   "metadata": {},
   "outputs": [
    {
     "name": "stdout",
     "output_type": "stream",
     "text": [
      "A\n",
      "B\n",
      "D\n",
      "A\n",
      "L\n",
      "L\n",
      "A\n",
      "H\n",
      " \n",
      "A\n",
      "H\n",
      "M\n",
      "E\n",
      "D\n",
      " \n",
      "M\n",
      "O\n",
      "H\n",
      "A\n",
      "M\n",
      "E\n",
      "D\n",
      " \n",
      "H\n",
      "A\n",
      "S\n",
      "S\n",
      "A\n",
      "N\n"
     ]
    }
   ],
   "source": [
    "for letter in name :\n",
    "    print(letter.capitalize())\n"
   ]
  },
  {
   "cell_type": "code",
   "execution_count": 33,
   "id": "b47d2ac0",
   "metadata": {},
   "outputs": [
    {
     "data": {
      "text/plain": [
       "int"
      ]
     },
     "execution_count": 33,
     "metadata": {},
     "output_type": "execute_result"
    }
   ],
   "source": [
    "x = 20 \n",
    "y = 5.5\n",
    "type(x)"
   ]
  },
  {
   "cell_type": "code",
   "execution_count": 34,
   "id": "216bff99",
   "metadata": {},
   "outputs": [
    {
     "data": {
      "text/plain": [
       "float"
      ]
     },
     "execution_count": 34,
     "metadata": {},
     "output_type": "execute_result"
    }
   ],
   "source": [
    "type(y)"
   ]
  },
  {
   "cell_type": "code",
   "execution_count": 35,
   "id": "a50b6cfc",
   "metadata": {},
   "outputs": [
    {
     "data": {
      "text/plain": [
       "20.0"
      ]
     },
     "execution_count": 35,
     "metadata": {},
     "output_type": "execute_result"
    }
   ],
   "source": [
    "float(x)"
   ]
  },
  {
   "cell_type": "code",
   "execution_count": 36,
   "id": "88c91bd4",
   "metadata": {},
   "outputs": [
    {
     "data": {
      "text/plain": [
       "5"
      ]
     },
     "execution_count": 36,
     "metadata": {},
     "output_type": "execute_result"
    }
   ],
   "source": [
    "int(y)"
   ]
  },
  {
   "cell_type": "code",
   "execution_count": 37,
   "id": "17c25752",
   "metadata": {},
   "outputs": [
    {
     "data": {
      "text/plain": [
       "20"
      ]
     },
     "execution_count": 37,
     "metadata": {},
     "output_type": "execute_result"
    }
   ],
   "source": [
    "max(x , y)"
   ]
  },
  {
   "cell_type": "code",
   "execution_count": 38,
   "id": "3e1f46bf",
   "metadata": {},
   "outputs": [
    {
     "data": {
      "text/plain": [
       "5.5"
      ]
     },
     "execution_count": 38,
     "metadata": {},
     "output_type": "execute_result"
    }
   ],
   "source": [
    "min(x , y)"
   ]
  },
  {
   "cell_type": "code",
   "execution_count": 40,
   "id": "904221bf",
   "metadata": {},
   "outputs": [
    {
     "data": {
      "text/plain": [
       "14310835.055998653"
      ]
     },
     "execution_count": 40,
     "metadata": {},
     "output_type": "execute_result"
    }
   ],
   "source": [
    "pow(x , y)"
   ]
  },
  {
   "cell_type": "code",
   "execution_count": 41,
   "id": "7f178ebc",
   "metadata": {},
   "outputs": [
    {
     "data": {
      "text/plain": [
       "1"
      ]
     },
     "execution_count": 41,
     "metadata": {},
     "output_type": "execute_result"
    }
   ],
   "source": [
    "abs(-1)"
   ]
  },
  {
   "cell_type": "code",
   "execution_count": 50,
   "id": "c1068843",
   "metadata": {},
   "outputs": [],
   "source": [
    "def aggragate_func(x , y) :\n",
    "    operation_1 = x + y \n",
    "    operation_2 = x - y \n",
    "    operation_3 = x * y \n",
    "    operation_4 = x / y  \n",
    "    maximum = max(x , y) \n",
    "    minmum = min(x , y)\n",
    "    return \"ADD {}  SUB {}  MULTI {}  DIVISION {}  MAX {}  MIN {}\".format(operation_1 , \n",
    "                                                                               operation_2 , \n",
    "                                                                               operation_3 , \n",
    "                                                                               operation_4 ,\n",
    "                                                                               maximum ,\n",
    "                                                                               minmum )\n"
   ]
  },
  {
   "cell_type": "code",
   "execution_count": 51,
   "id": "1bb5f645",
   "metadata": {},
   "outputs": [
    {
     "data": {
      "text/plain": [
       "'ADD 4  SUB 0  MULTI 4  DIVISION 1.0  MAX 2  MIN 2'"
      ]
     },
     "execution_count": 51,
     "metadata": {},
     "output_type": "execute_result"
    }
   ],
   "source": [
    "aggragate_func(2 , 2)"
   ]
  },
  {
   "cell_type": "code",
   "execution_count": 52,
   "id": "dc3eeae9",
   "metadata": {},
   "outputs": [
    {
     "data": {
      "text/plain": [
       "'ADD 102  SUB -78  MULTI 1080  DIVISION 0.13333333333333333  MAX 90  MIN 12'"
      ]
     },
     "execution_count": 52,
     "metadata": {},
     "output_type": "execute_result"
    }
   ],
   "source": [
    "aggragate_func(12 , 90)"
   ]
  },
  {
   "cell_type": "code",
   "execution_count": 57,
   "id": "e5e12f8a",
   "metadata": {},
   "outputs": [],
   "source": [
    "def check_type(x) :\n",
    "    \"\"\" function for check type of number which is even or odd \"\"\"\n",
    "    if x % 2 == 0 :\n",
    "        print('THIS NUMBER IS EVEN NUMBER')\n",
    "    else :\n",
    "         print('THIS NUMBER IS ODD NUMBER')\n"
   ]
  },
  {
   "cell_type": "code",
   "execution_count": 58,
   "id": "33061e74",
   "metadata": {},
   "outputs": [
    {
     "name": "stdout",
     "output_type": "stream",
     "text": [
      "THIS NUMBER IS EVEN NUMBER\n"
     ]
    }
   ],
   "source": [
    "check_type(2)"
   ]
  },
  {
   "cell_type": "code",
   "execution_count": 59,
   "id": "772a5243",
   "metadata": {},
   "outputs": [
    {
     "name": "stdout",
     "output_type": "stream",
     "text": [
      "THIS NUMBER IS ODD NUMBER\n"
     ]
    }
   ],
   "source": [
    "check_type(3)"
   ]
  },
  {
   "cell_type": "code",
   "execution_count": 60,
   "id": "8597ad8c",
   "metadata": {},
   "outputs": [
    {
     "name": "stdout",
     "output_type": "stream",
     "text": [
      "THIS NUMBER IS ODD NUMBER\n"
     ]
    }
   ],
   "source": [
    "check_type(2.9)"
   ]
  },
  {
   "cell_type": "code",
   "execution_count": 65,
   "id": "a57e6a79",
   "metadata": {},
   "outputs": [
    {
     "data": {
      "text/plain": [
       "13.0"
      ]
     },
     "execution_count": 65,
     "metadata": {},
     "output_type": "execute_result"
    }
   ],
   "source": [
    "round(12.567 , 0)"
   ]
  },
  {
   "cell_type": "code",
   "execution_count": 66,
   "id": "09818a81",
   "metadata": {},
   "outputs": [
    {
     "data": {
      "text/plain": [
       "12.6"
      ]
     },
     "execution_count": 66,
     "metadata": {},
     "output_type": "execute_result"
    }
   ],
   "source": [
    "round(12.567 , 1)"
   ]
  },
  {
   "cell_type": "code",
   "execution_count": 73,
   "id": "dc134b37",
   "metadata": {},
   "outputs": [],
   "source": [
    "def analysis(df) :\n",
    "    check_1 = df.columns\n",
    "    check_2 = len(df.columns)\n",
    "    check_3 = df.shape\n",
    "    check_4 = df.dtypes\n",
    "    return check_1, check_2, check_3, check_4"
   ]
  },
  {
   "cell_type": "code",
   "execution_count": 68,
   "id": "0c2324dd",
   "metadata": {},
   "outputs": [],
   "source": [
    "import pandas as pd"
   ]
  },
  {
   "cell_type": "code",
   "execution_count": 69,
   "id": "211283a3",
   "metadata": {},
   "outputs": [
    {
     "data": {
      "text/html": [
       "<div>\n",
       "<style scoped>\n",
       "    .dataframe tbody tr th:only-of-type {\n",
       "        vertical-align: middle;\n",
       "    }\n",
       "\n",
       "    .dataframe tbody tr th {\n",
       "        vertical-align: top;\n",
       "    }\n",
       "\n",
       "    .dataframe thead th {\n",
       "        text-align: right;\n",
       "    }\n",
       "</style>\n",
       "<table border=\"1\" class=\"dataframe\">\n",
       "  <thead>\n",
       "    <tr style=\"text-align: right;\">\n",
       "      <th></th>\n",
       "      <th>cars_per_cap</th>\n",
       "      <th>country</th>\n",
       "      <th>drives_right</th>\n",
       "    </tr>\n",
       "  </thead>\n",
       "  <tbody>\n",
       "    <tr>\n",
       "      <th>US</th>\n",
       "      <td>809</td>\n",
       "      <td>United States</td>\n",
       "      <td>True</td>\n",
       "    </tr>\n",
       "    <tr>\n",
       "      <th>AUS</th>\n",
       "      <td>731</td>\n",
       "      <td>Australia</td>\n",
       "      <td>False</td>\n",
       "    </tr>\n",
       "    <tr>\n",
       "      <th>JAP</th>\n",
       "      <td>588</td>\n",
       "      <td>Japan</td>\n",
       "      <td>False</td>\n",
       "    </tr>\n",
       "    <tr>\n",
       "      <th>IN</th>\n",
       "      <td>18</td>\n",
       "      <td>India</td>\n",
       "      <td>False</td>\n",
       "    </tr>\n",
       "    <tr>\n",
       "      <th>RU</th>\n",
       "      <td>200</td>\n",
       "      <td>Russia</td>\n",
       "      <td>True</td>\n",
       "    </tr>\n",
       "    <tr>\n",
       "      <th>MOR</th>\n",
       "      <td>70</td>\n",
       "      <td>Morocco</td>\n",
       "      <td>True</td>\n",
       "    </tr>\n",
       "    <tr>\n",
       "      <th>EG</th>\n",
       "      <td>45</td>\n",
       "      <td>Egypt</td>\n",
       "      <td>True</td>\n",
       "    </tr>\n",
       "  </tbody>\n",
       "</table>\n",
       "</div>"
      ],
      "text/plain": [
       "     cars_per_cap        country  drives_right\n",
       "US            809  United States          True\n",
       "AUS           731      Australia         False\n",
       "JAP           588          Japan         False\n",
       "IN             18          India         False\n",
       "RU            200         Russia          True\n",
       "MOR            70        Morocco          True\n",
       "EG             45          Egypt          True"
      ]
     },
     "execution_count": 69,
     "metadata": {},
     "output_type": "execute_result"
    }
   ],
   "source": [
    "car = pd.read_csv('./datasets/cars.csv' , index_col=0)\n",
    "car"
   ]
  },
  {
   "cell_type": "code",
   "execution_count": 70,
   "id": "4c7d03d3",
   "metadata": {},
   "outputs": [
    {
     "data": {
      "text/plain": [
       "(Index(['cars_per_cap', 'country', 'drives_right'], dtype='object'),\n",
       " 3,\n",
       " (7, 3),\n",
       " cars_per_cap     int64\n",
       " country         object\n",
       " drives_right      bool\n",
       " dtype: object)"
      ]
     },
     "execution_count": 70,
     "metadata": {},
     "output_type": "execute_result"
    }
   ],
   "source": [
    "analysis(car)"
   ]
  },
  {
   "cell_type": "code",
   "execution_count": 76,
   "id": "8c8e5b9f",
   "metadata": {},
   "outputs": [],
   "source": [
    "def summary_statics(df) :\n",
    "    MAX_ = df.max()\n",
    "    MIN_ = df.min()\n",
    "    COUNT_ = df.count()\n",
    "    return MAX_ , MIN_ , COUNT_ "
   ]
  },
  {
   "cell_type": "code",
   "execution_count": 77,
   "id": "2940d324",
   "metadata": {},
   "outputs": [
    {
     "data": {
      "text/plain": [
       "(cars_per_cap              809\n",
       " country         United States\n",
       " drives_right             True\n",
       " dtype: object,\n",
       " cars_per_cap           18\n",
       " country         Australia\n",
       " drives_right        False\n",
       " dtype: object,\n",
       " cars_per_cap    7\n",
       " country         7\n",
       " drives_right    7\n",
       " dtype: int64)"
      ]
     },
     "execution_count": 77,
     "metadata": {},
     "output_type": "execute_result"
    }
   ],
   "source": [
    "summary_statics(car)"
   ]
  },
  {
   "cell_type": "code",
   "execution_count": 83,
   "id": "86e8b382",
   "metadata": {},
   "outputs": [
    {
     "data": {
      "text/plain": [
       "'Ali'"
      ]
     },
     "execution_count": 83,
     "metadata": {},
     "output_type": "execute_result"
    }
   ],
   "source": [
    "names = [\"Ali\" , \"Salem\" , \"Mohamed\" , \"Yahia\"]\n",
    "names[0]"
   ]
  },
  {
   "cell_type": "code",
   "execution_count": 87,
   "id": "8d096a65",
   "metadata": {},
   "outputs": [
    {
     "data": {
      "text/plain": [
       "['Ali',\n",
       " 'Salem',\n",
       " 'Mohamed',\n",
       " 'Yahia',\n",
       " 'Abdallah',\n",
       " 'Abdallah',\n",
       " 'Abdallah',\n",
       " 'Abdallah']"
      ]
     },
     "execution_count": 87,
     "metadata": {},
     "output_type": "execute_result"
    }
   ],
   "source": [
    "names.append('Abdallah')\n",
    "names"
   ]
  },
  {
   "cell_type": "code",
   "execution_count": 89,
   "id": "ff79ea13",
   "metadata": {},
   "outputs": [
    {
     "data": {
      "text/plain": [
       "['Ali', 'Yahia', 'Abdallah', 'Abdallah', 'Abdallah', 'Abdallah']"
      ]
     },
     "execution_count": 89,
     "metadata": {},
     "output_type": "execute_result"
    }
   ],
   "source": [
    "del(names[1])\n",
    "names"
   ]
  },
  {
   "cell_type": "code",
   "execution_count": 92,
   "id": "59e2215d",
   "metadata": {},
   "outputs": [
    {
     "data": {
      "text/plain": [
       "['Yahia', 'Ali', 'Abdallah', 'Abdallah', 'Abdallah', 'Abdallah']"
      ]
     },
     "execution_count": 92,
     "metadata": {},
     "output_type": "execute_result"
    }
   ],
   "source": [
    "sorted(names , reverse=True)"
   ]
  },
  {
   "cell_type": "code",
   "execution_count": 93,
   "id": "18eab3a9",
   "metadata": {},
   "outputs": [
    {
     "data": {
      "text/plain": [
       "1"
      ]
     },
     "execution_count": 93,
     "metadata": {},
     "output_type": "execute_result"
    }
   ],
   "source": [
    "names.index('Yahia')"
   ]
  },
  {
   "cell_type": "code",
   "execution_count": 94,
   "id": "2b3c2218",
   "metadata": {},
   "outputs": [
    {
     "data": {
      "text/plain": [
       "4"
      ]
     },
     "execution_count": 94,
     "metadata": {},
     "output_type": "execute_result"
    }
   ],
   "source": [
    "names.count('Abdallah')"
   ]
  },
  {
   "cell_type": "code",
   "execution_count": 95,
   "id": "4201fe33",
   "metadata": {},
   "outputs": [
    {
     "data": {
      "text/plain": [
       "6"
      ]
     },
     "execution_count": 95,
     "metadata": {},
     "output_type": "execute_result"
    }
   ],
   "source": [
    "len(names)"
   ]
  },
  {
   "cell_type": "code",
   "execution_count": 99,
   "id": "d0b04a2c",
   "metadata": {},
   "outputs": [
    {
     "data": {
      "text/plain": [
       "['Abdallah', 'Abdallah', 'Abdallah', 'Abdallah', 'Yahia', 'Ali']"
      ]
     },
     "execution_count": 99,
     "metadata": {},
     "output_type": "execute_result"
    }
   ],
   "source": [
    "names.reverse()\n",
    "names"
   ]
  },
  {
   "cell_type": "code",
   "execution_count": 103,
   "id": "e09b8063",
   "metadata": {},
   "outputs": [
    {
     "name": "stdout",
     "output_type": "stream",
     "text": [
      "Abdallah\n",
      "Abdallah\n",
      "Abdallah\n",
      "Abdallah\n",
      "Yahia\n",
      "Ali\n"
     ]
    }
   ],
   "source": [
    "for name in names :\n",
    "    print(name)"
   ]
  },
  {
   "cell_type": "code",
   "execution_count": 102,
   "id": "6a8099b1",
   "metadata": {},
   "outputs": [
    {
     "name": "stdout",
     "output_type": "stream",
     "text": [
      "Abdallah -- 0\n",
      "Abdallah -- 1\n",
      "Abdallah -- 2\n",
      "Abdallah -- 3\n",
      "Yahia -- 4\n",
      "Ali -- 5\n"
     ]
    }
   ],
   "source": [
    "for index , name in enumerate(names) :\n",
    "    print(name + \" -- \" + str(index))"
   ]
  },
  {
   "cell_type": "code",
   "execution_count": 105,
   "id": "a423ce1c",
   "metadata": {},
   "outputs": [
    {
     "data": {
      "text/plain": [
       "30.55"
      ]
     },
     "execution_count": 105,
     "metadata": {},
     "output_type": "execute_result"
    }
   ],
   "source": [
    "world = {\n",
    "    \"afghanistan\" : 30.55,\n",
    "    \"albania\" : 2.77,\n",
    "    \"algeria\" : 39.21\n",
    "}\n",
    "world['afghanistan']"
   ]
  },
  {
   "cell_type": "code",
   "execution_count": 106,
   "id": "297c2730",
   "metadata": {},
   "outputs": [
    {
     "data": {
      "text/plain": [
       "dict_keys(['afghanistan', 'albania', 'algeria'])"
      ]
     },
     "execution_count": 106,
     "metadata": {},
     "output_type": "execute_result"
    }
   ],
   "source": [
    "world.keys()"
   ]
  },
  {
   "cell_type": "code",
   "execution_count": 107,
   "id": "58e4e476",
   "metadata": {},
   "outputs": [
    {
     "data": {
      "text/plain": [
       "3"
      ]
     },
     "execution_count": 107,
     "metadata": {},
     "output_type": "execute_result"
    }
   ],
   "source": [
    "len(world.keys())"
   ]
  },
  {
   "cell_type": "code",
   "execution_count": 119,
   "id": "db572a93",
   "metadata": {},
   "outputs": [
    {
     "data": {
      "text/plain": [
       "{'albania': 2.77, 'Egypt': 23.98}"
      ]
     },
     "execution_count": 119,
     "metadata": {},
     "output_type": "execute_result"
    }
   ],
   "source": [
    "world['Egypt'] = 23.98\n",
    "world"
   ]
  },
  {
   "cell_type": "code",
   "execution_count": null,
   "id": "44883c28",
   "metadata": {},
   "outputs": [],
   "source": [
    "del[world['afghanistan']]"
   ]
  },
  {
   "cell_type": "code",
   "execution_count": 120,
   "id": "42b53748",
   "metadata": {},
   "outputs": [
    {
     "data": {
      "text/plain": [
       "{'albania': 2.77, 'Egypt': 23.98}"
      ]
     },
     "execution_count": 120,
     "metadata": {},
     "output_type": "execute_result"
    }
   ],
   "source": [
    "world"
   ]
  },
  {
   "cell_type": "code",
   "execution_count": 122,
   "id": "1fc858d9",
   "metadata": {},
   "outputs": [
    {
     "name": "stdout",
     "output_type": "stream",
     "text": [
      "albania ----------->> 2.77\n",
      "Egypt ----------->> 23.98\n"
     ]
    }
   ],
   "source": [
    "for key , value in world.items():\n",
    "    print(key + ' ----------->> ' + str(value))"
   ]
  },
  {
   "cell_type": "code",
   "execution_count": 124,
   "id": "41e959bb",
   "metadata": {},
   "outputs": [
    {
     "data": {
      "text/html": [
       "<div>\n",
       "<style scoped>\n",
       "    .dataframe tbody tr th:only-of-type {\n",
       "        vertical-align: middle;\n",
       "    }\n",
       "\n",
       "    .dataframe tbody tr th {\n",
       "        vertical-align: top;\n",
       "    }\n",
       "\n",
       "    .dataframe thead th {\n",
       "        text-align: right;\n",
       "    }\n",
       "</style>\n",
       "<table border=\"1\" class=\"dataframe\">\n",
       "  <thead>\n",
       "    <tr style=\"text-align: right;\">\n",
       "      <th></th>\n",
       "      <th>country</th>\n",
       "      <th>drives_right</th>\n",
       "      <th>cars_per_cap</th>\n",
       "    </tr>\n",
       "  </thead>\n",
       "  <tbody>\n",
       "    <tr>\n",
       "      <th>0</th>\n",
       "      <td>United States</td>\n",
       "      <td>True</td>\n",
       "      <td>809</td>\n",
       "    </tr>\n",
       "    <tr>\n",
       "      <th>1</th>\n",
       "      <td>Australia</td>\n",
       "      <td>False</td>\n",
       "      <td>731</td>\n",
       "    </tr>\n",
       "    <tr>\n",
       "      <th>2</th>\n",
       "      <td>Japan</td>\n",
       "      <td>False</td>\n",
       "      <td>588</td>\n",
       "    </tr>\n",
       "    <tr>\n",
       "      <th>3</th>\n",
       "      <td>India</td>\n",
       "      <td>False</td>\n",
       "      <td>18</td>\n",
       "    </tr>\n",
       "    <tr>\n",
       "      <th>4</th>\n",
       "      <td>Russia</td>\n",
       "      <td>True</td>\n",
       "      <td>200</td>\n",
       "    </tr>\n",
       "    <tr>\n",
       "      <th>5</th>\n",
       "      <td>Morocco</td>\n",
       "      <td>True</td>\n",
       "      <td>70</td>\n",
       "    </tr>\n",
       "    <tr>\n",
       "      <th>6</th>\n",
       "      <td>Egypt</td>\n",
       "      <td>True</td>\n",
       "      <td>45</td>\n",
       "    </tr>\n",
       "  </tbody>\n",
       "</table>\n",
       "</div>"
      ],
      "text/plain": [
       "         country  drives_right  cars_per_cap\n",
       "0  United States          True           809\n",
       "1      Australia         False           731\n",
       "2          Japan         False           588\n",
       "3          India         False            18\n",
       "4         Russia          True           200\n",
       "5        Morocco          True            70\n",
       "6          Egypt          True            45"
      ]
     },
     "execution_count": 124,
     "metadata": {},
     "output_type": "execute_result"
    }
   ],
   "source": [
    "names = ['United States', 'Australia', 'Japan', 'India', 'Russia', 'Morocco', 'Egypt']\n",
    "dr =  [True, False, False, False, True, True, True]\n",
    "cpc = [809, 731, 588, 18, 200, 70, 45]\n",
    "my_dict = {\n",
    "    'country' : names ,\n",
    "    'drives_right' : dr ,\n",
    "    'cars_per_cap' : cpc\n",
    "}\n",
    "\n",
    "Cars_dataframe = pd.DataFrame(my_dict)\n",
    "Cars_dataframe"
   ]
  },
  {
   "cell_type": "code",
   "execution_count": 127,
   "id": "7805b3fc",
   "metadata": {},
   "outputs": [
    {
     "data": {
      "text/plain": [
       "country         [United States, Australia, Japan, India, Russi...\n",
       "drives_right        [True, False, False, False, True, True, True]\n",
       "cars_per_cap                     [809, 731, 588, 18, 200, 70, 45]\n",
       "dtype: object"
      ]
     },
     "execution_count": 127,
     "metadata": {},
     "output_type": "execute_result"
    }
   ],
   "source": [
    "Cars_series = pd.Series(my_dict)\n",
    "Cars_series"
   ]
  },
  {
   "cell_type": "code",
   "execution_count": 131,
   "id": "b6fc2a97",
   "metadata": {},
   "outputs": [
    {
     "name": "stdout",
     "output_type": "stream",
     "text": [
      "0 United States True 809\n",
      "1 Australia False 731\n",
      "2 Japan False 588\n",
      "3 India False 18\n",
      "4 Russia True 200\n",
      "5 Morocco True 70\n",
      "6 Egypt True 45\n"
     ]
    }
   ],
   "source": [
    "for index , row in Cars_dataframe.iterrows():\n",
    "    print(str(index) +\" \"+ row['country'] +\" \"+ str(row['drives_right'])+\" \"+ str(row['cars_per_cap']))"
   ]
  },
  {
   "cell_type": "code",
   "execution_count": 137,
   "id": "e201d431",
   "metadata": {},
   "outputs": [
    {
     "data": {
      "text/plain": [
       "Index(['country', 'drives_right', 'cars_per_cap'], dtype='object')"
      ]
     },
     "execution_count": 137,
     "metadata": {},
     "output_type": "execute_result"
    }
   ],
   "source": [
    "Cars_dataframe.columns"
   ]
  },
  {
   "cell_type": "code",
   "execution_count": 132,
   "id": "f3e5f7af",
   "metadata": {},
   "outputs": [
    {
     "data": {
      "text/plain": [
       "array([['United States', True, 809],\n",
       "       ['Australia', False, 731],\n",
       "       ['Japan', False, 588],\n",
       "       ['India', False, 18],\n",
       "       ['Russia', True, 200],\n",
       "       ['Morocco', True, 70],\n",
       "       ['Egypt', True, 45]], dtype=object)"
      ]
     },
     "execution_count": 132,
     "metadata": {},
     "output_type": "execute_result"
    }
   ],
   "source": [
    "Cars_dataframe.values"
   ]
  },
  {
   "cell_type": "code",
   "execution_count": null,
   "id": "ebe3821f",
   "metadata": {},
   "outputs": [],
   "source": []
  }
 ],
 "metadata": {
  "kernelspec": {
   "display_name": "Python 3 (ipykernel)",
   "language": "python",
   "name": "python3"
  },
  "language_info": {
   "codemirror_mode": {
    "name": "ipython",
    "version": 3
   },
   "file_extension": ".py",
   "mimetype": "text/x-python",
   "name": "python",
   "nbconvert_exporter": "python",
   "pygments_lexer": "ipython3",
   "version": "3.10.5"
  }
 },
 "nbformat": 4,
 "nbformat_minor": 5
}
